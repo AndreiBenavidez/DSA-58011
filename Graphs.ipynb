{
  "nbformat": 4,
  "nbformat_minor": 0,
  "metadata": {
    "colab": {
      "provenance": [],
      "authorship_tag": "ABX9TyOSlQoopzwzlPdvdJc3vT2S",
      "include_colab_link": true
    },
    "kernelspec": {
      "name": "python3",
      "display_name": "Python 3"
    },
    "language_info": {
      "name": "python"
    }
  },
  "cells": [
    {
      "cell_type": "markdown",
      "metadata": {
        "id": "view-in-github",
        "colab_type": "text"
      },
      "source": [
        "<a href=\"https://colab.research.google.com/github/AndreiBenavidez/DSA-58011/blob/main/Graphs.ipynb\" target=\"_parent\"><img src=\"https://colab.research.google.com/assets/colab-badge.svg\" alt=\"Open In Colab\"/></a>"
      ]
    },
    {
      "cell_type": "markdown",
      "source": [
        "Application"
      ],
      "metadata": {
        "id": "mjpRn4mei2PM"
      }
    },
    {
      "cell_type": "code",
      "source": [
        "graph = {\n",
        "    'a':['b','c'],\n",
        "    'b':['a','d'],\n",
        "    'c':['a','d'],\n",
        "    'd':['b','c','e'],\n",
        "    'e':['e']\n",
        "\n",
        "}\n",
        "print(graph)"
      ],
      "metadata": {
        "colab": {
          "base_uri": "https://localhost:8080/"
        },
        "id": "yiPaW7hYi6yd",
        "outputId": "bedd9344-31ff-432d-d5ba-0ae2159c2985"
      },
      "execution_count": 3,
      "outputs": [
        {
          "output_type": "stream",
          "name": "stdout",
          "text": [
            "{'a': ['b', 'c'], 'b': ['a', 'd'], 'c': ['a', 'd'], 'd': ['b', 'c', 'e'], 'e': ['e']}\n"
          ]
        }
      ]
    },
    {
      "cell_type": "markdown",
      "source": [],
      "metadata": {
        "id": "15OfUNQHi84K"
      }
    },
    {
      "cell_type": "code",
      "source": [
        "g21 = {\n",
        "    '1':['4','5','6'],\n",
        "    '4':['2','5'],\n",
        "    '5':['1'],\n",
        "    '3':['1'],\n",
        "    '4':['1'],\n",
        "    '2':['4','2'],\n",
        "\n",
        "}\n",
        "print(g21)\n",
        "V = {1,2,3,4,5}\n",
        "E = {'1': ['4', '5', '6'], '4': ['1'], '5': ['1'], '3': ['1'], '2': ['4', '2']}"
      ],
      "metadata": {
        "colab": {
          "base_uri": "https://localhost:8080/"
        },
        "id": "QU3O1APDi9Ur",
        "outputId": "db3293fd-c433-4c0f-d2db-f7f93c7b131c"
      },
      "execution_count": 5,
      "outputs": [
        {
          "output_type": "stream",
          "name": "stdout",
          "text": [
            "{'1': ['4', '5', '6'], '4': ['1'], '5': ['1'], '3': ['1'], '2': ['4', '2']}\n"
          ]
        }
      ]
    }
  ]
}