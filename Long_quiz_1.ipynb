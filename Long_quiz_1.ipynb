{
  "nbformat": 4,
  "nbformat_minor": 0,
  "metadata": {
    "colab": {
      "provenance": [],
      "authorship_tag": "ABX9TyPps1lLPlAu2XDDU2UBRfol",
      "include_colab_link": true
    },
    "kernelspec": {
      "name": "python3",
      "display_name": "Python 3"
    },
    "language_info": {
      "name": "python"
    }
  },
  "cells": [
    {
      "cell_type": "markdown",
      "metadata": {
        "id": "view-in-github",
        "colab_type": "text"
      },
      "source": [
        "<a href=\"https://colab.research.google.com/github/AndreiBenavidez/DSA-58011/blob/main/Long_quiz_1.ipynb\" target=\"_parent\"><img src=\"https://colab.research.google.com/assets/colab-badge.svg\" alt=\"Open In Colab\"/></a>"
      ]
    },
    {
      "cell_type": "code",
      "execution_count": 5,
      "metadata": {
        "colab": {
          "base_uri": "https://localhost:8080/"
        },
        "id": "cVyr_h9-ebk1",
        "outputId": "7cf8a942-8997-425e-be3a-ff2066715d6b"
      },
      "outputs": [
        {
          "output_type": "stream",
          "name": "stdout",
          "text": [
            "Full name : ['Benavidez', 'Andrei']\n",
            "Reversed Full Name: ['Andrei', 'Benavidez']\n"
          ]
        }
      ],
      "source": [
        "arr = [\"Benavidez\", \"Andrei\"]\n",
        "print(\"Full name :\",arr)\n",
        " \n",
        "res = arr[::-1] \n",
        "print(\"Reversed Full Name:\",res)"
      ]
    }
  ]
}