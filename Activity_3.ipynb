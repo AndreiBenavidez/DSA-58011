{
  "nbformat": 4,
  "nbformat_minor": 0,
  "metadata": {
    "colab": {
      "provenance": [],
      "authorship_tag": "ABX9TyNphpttpy9sahcdD6fDxkRc",
      "include_colab_link": true
    },
    "kernelspec": {
      "name": "python3",
      "display_name": "Python 3"
    },
    "language_info": {
      "name": "python"
    }
  },
  "cells": [
    {
      "cell_type": "markdown",
      "metadata": {
        "id": "view-in-github",
        "colab_type": "text"
      },
      "source": [
        "<a href=\"https://colab.research.google.com/github/AndreiBenavidez/DSA-58011/blob/main/Activity_3.ipynb\" target=\"_parent\"><img src=\"https://colab.research.google.com/assets/colab-badge.svg\" alt=\"Open In Colab\"/></a>"
      ]
    },
    {
      "cell_type": "markdown",
      "source": [
        "Original Codes"
      ],
      "metadata": {
        "id": "YzHv0s_fF0Ph"
      }
    },
    {
      "cell_type": "code",
      "source": [
        "def create_stack():\n",
        "    stack = []\n",
        "    return stack\n",
        "\n",
        "def is_empty(stack):\n",
        "    return len(stack) == 0\n",
        "\n",
        "def push(stack, item):\n",
        "    stack.append(item)\n",
        "    print(\"Pushed Element: \" + item)\n",
        "\n",
        "def pop(stack):\n",
        "    if (is_empty(stack)):\n",
        "        return \"The stack is empty\"\n",
        "    return stack.pop()\n",
        "\n",
        "stack = create_stack()\n",
        "push(stack, str(1))\n",
        "push(stack, str(2))\n",
        "push(stack, str(3))\n",
        "push(stack, str(4))\n",
        "push(stack, str(5))\n",
        "\n",
        "print(\"The elements in the stack are:\"+ str(stack))"
      ],
      "metadata": {
        "colab": {
          "base_uri": "https://localhost:8080/"
        },
        "id": "X_nQdNA-F0l9",
        "outputId": "27f1e12a-ce4d-49de-c865-f241f2f019bd"
      },
      "execution_count": 1,
      "outputs": [
        {
          "output_type": "stream",
          "name": "stdout",
          "text": [
            "Pushed Element: 1\n",
            "Pushed Element: 2\n",
            "Pushed Element: 3\n",
            "Pushed Element: 4\n",
            "Pushed Element: 5\n",
            "The elements in the stack are:['1', '2', '3', '4', '5']\n"
          ]
        }
      ]
    },
    {
      "cell_type": "markdown",
      "source": [
        "Pop three elements from the top of the stack"
      ],
      "metadata": {
        "id": "GB-k8xOoF4da"
      }
    },
    {
      "cell_type": "code",
      "source": [
        "def create_stack():\n",
        "    stack = []\n",
        "    return stack\n",
        "\n",
        "def is_empty(stack):\n",
        "    return len(stack) == 0\n",
        "\n",
        "def push(stack, item):\n",
        "    stack.append(item)\n",
        "    print(\"Pushed Element: \" + item)\n",
        "\n",
        "def pop(stack):\n",
        "    if (is_empty(stack)):\n",
        "        return \"The stack is empty\"\n",
        "    return stack.pop()\n",
        "\n",
        "stack = create_stack()\n",
        "push(stack, str(1))\n",
        "push(stack, str(2))\n",
        "push(stack, str(3))\n",
        "push(stack, str(4))\n",
        "push(stack, str(5))\n",
        "\n",
        "print(\"The elements in the stack are:\"+ str(stack))\n",
        "\n",
        "print(\"The elements popped from the stack:\", stack.pop(), stack.pop(), stack.pop())\n",
        "\n",
        "print(\"The elements left in the stack are:\", stack)"
      ],
      "metadata": {
        "colab": {
          "base_uri": "https://localhost:8080/"
        },
        "id": "qq35E1nKF66m",
        "outputId": "38f89630-c8b6-4de4-b2c7-09cabfc6abcf"
      },
      "execution_count": 2,
      "outputs": [
        {
          "output_type": "stream",
          "name": "stdout",
          "text": [
            "Pushed Element: 1\n",
            "Pushed Element: 2\n",
            "Pushed Element: 3\n",
            "Pushed Element: 4\n",
            "Pushed Element: 5\n",
            "The elements in the stack are:['1', '2', '3', '4', '5']\n",
            "The elements popped from the stack: 5 4 3\n",
            "The elements left in the stack are: ['1', '2']\n"
          ]
        }
      ]
    },
    {
      "cell_type": "markdown",
      "source": [
        "Length of the stack"
      ],
      "metadata": {
        "id": "aX3-k1DNF-pR"
      }
    },
    {
      "cell_type": "code",
      "source": [
        "def create_stack():\n",
        "  stack = []\n",
        "  return stack\n",
        "\n",
        "def is_empty(stack):\n",
        "  return len(stack) == 0\n",
        "\n",
        "def push(stack,item):\n",
        "  stack.append(item)\n",
        "  print(\"Pushed Element: \"+ item)\n",
        "\n",
        "def pop(stack):\n",
        "  if (is_empty(stack)):\n",
        "    return\"The stack is empty\"\n",
        "  return stack.pop()\n",
        "\n",
        "stack = create_stack()\n",
        "push(stack, str(1))\n",
        "push(stack, str(2))\n",
        "push(stack, str(3))\n",
        "push(stack, str(4))\n",
        "push(stack, str(5))\n",
        "\n",
        "\n",
        "print(\"The elements in the stack are: \"+str(stack))\n",
        "\n",
        "print(\"Length of the Stack: \", len(stack))"
      ],
      "metadata": {
        "colab": {
          "base_uri": "https://localhost:8080/"
        },
        "id": "YyuEHNd4GBdH",
        "outputId": "1bd5304c-6cc9-4b70-ea16-b3624210cd5e"
      },
      "execution_count": 3,
      "outputs": [
        {
          "output_type": "stream",
          "name": "stdout",
          "text": [
            "Pushed Element: 1\n",
            "Pushed Element: 2\n",
            "Pushed Element: 3\n",
            "Pushed Element: 4\n",
            "Pushed Element: 5\n",
            "The elements in the stack are: ['1', '2', '3', '4', '5']\n",
            "Length of the Stack:  5\n"
          ]
        }
      ]
    }
  ]
}